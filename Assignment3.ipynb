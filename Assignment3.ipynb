{
 "cells": [
  {
   "cell_type": "markdown",
   "metadata": {},
   "source": [
    "# Assignment 3"
   ]
  },
  {
   "cell_type": "markdown",
   "metadata": {},
   "source": [
    "# Task1"
   ]
  },
  {
   "cell_type": "markdown",
   "metadata": {},
   "source": [
    "1. Write a function to compute 5/0 and use try/except to catch the exceptions."
   ]
  },
  {
   "cell_type": "code",
   "execution_count": null,
   "metadata": {},
   "outputs": [],
   "source": [
    "def compute(x,y):\n",
    "    try:\n",
    "        result = x//y\n",
    "        print(result)\n",
    "    except ZeroDivisionError:\n",
    "        print(\"There is an ZeroDivisionError exception\")\n",
    "    \n",
    "compute(5,0)"
   ]
  },
  {
   "cell_type": "markdown",
   "metadata": {},
   "source": [
    "2. Implement a Python program to generate all sentences where subject is in [\"Americans\", \"Indians\"] and verb is in [\"Play\", \"watch\"] and the object is in [\"Baseball\",\"cricket\"]. \n",
    " \n",
    "Hint: Subject,Verb and Object should be declared in the program as shown below. \n",
    " \n",
    "subjects=[\"Americans \",\"Indians\"] verbs=[\"play\",\"watch\"] objects=[\"Baseball\",\"Cricket\"] \n",
    " \n",
    "Output should come as below: \n",
    " \n",
    "Americans  play Baseball. Americans  play Cricket. Americans  watch Baseball. Americans  watch Cricket. Indians play Baseball. Indians play Cricket. Indians watch Baseball. Indians watch Cricket. "
   ]
  },
  {
   "cell_type": "code",
   "execution_count": null,
   "metadata": {},
   "outputs": [],
   "source": [
    "subjects=[\"Americans \",\"Indians\"] \n",
    "verbs=[\"play\",\"watch\"] \n",
    "objects=[\"Baseball\",\"Cricket\"] \n",
    "\n",
    "sentences = [sub +\" \" + vrb +\" \" + obj +\".\" for sub in subjects for vrb in verbs for obj in objects]\n",
    "for sen in sentences:\n",
    "    print(sen)\n"
   ]
  },
  {
   "cell_type": "markdown",
   "metadata": {},
   "source": [
    "# Task 2: "
   ]
  },
  {
   "cell_type": "markdown",
   "metadata": {},
   "source": [
    "1. Write a function so that the columns of the output matrix are powers of the input vector.  \n",
    "       The order of the powers is determined by the increasing boolean argument. Specifically, when              increasing is    False, the i-th output column is the input vector raised element-wise to the power                of N - i - 1.  \n",
    " \n",
    "     HINT: Such a matrix with a geometric progression in each row is named for Alexandre               Theophile Vandermonde. "
   ]
  },
  {
   "cell_type": "code",
   "execution_count": 8,
   "metadata": {},
   "outputs": [
    {
     "name": "stdout",
     "output_type": "stream",
     "text": [
      "Enter a list numbers separated by space: 1 3 5 7 \n",
      "4\n",
      "1 3 5 7 \n",
      "1 9 25 49 \n",
      "1 27 125 343 \n",
      "1 81 625 2401 \n"
     ]
    }
   ],
   "source": [
    "input_string = input(\"Enter a list numbers separated by space: \")\n",
    "userList = input_string.split()\n",
    "n = [int(n) for n in userList]\n",
    "\n",
    "MAX =len(n) \n",
    "mat = [[0 for x in range(MAX)] for y in range(MAX)]\n",
    "print (MAX)\n",
    "def cal_mat(i,j,n):\n",
    "    return n[j]**(i+1)\n",
    "def build_mat(n):\n",
    "    for i in range(MAX):\n",
    "        for j in range(MAX):\n",
    "            mat[i][j] = cal_mat(i,j,n)\n",
    "            print (mat[i][j],end =\" \")\n",
    "        print(\"\")\n",
    "build_mat(n)"
   ]
  }
 ],
 "metadata": {
  "kernelspec": {
   "display_name": "Python 3",
   "language": "python",
   "name": "python3"
  },
  "language_info": {
   "codemirror_mode": {
    "name": "ipython",
    "version": 3
   },
   "file_extension": ".py",
   "mimetype": "text/x-python",
   "name": "python",
   "nbconvert_exporter": "python",
   "pygments_lexer": "ipython3",
   "version": "3.7.1"
  }
 },
 "nbformat": 4,
 "nbformat_minor": 2
}
